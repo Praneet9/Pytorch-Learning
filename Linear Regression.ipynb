{
 "cells": [
  {
   "cell_type": "markdown",
   "metadata": {},
   "source": [
    "## Manual Linear Regression"
   ]
  },
  {
   "cell_type": "code",
   "execution_count": 1,
   "metadata": {
    "ExecuteTime": {
     "end_time": "2020-03-15T15:13:09.945172Z",
     "start_time": "2020-03-15T15:13:09.725202Z"
    }
   },
   "outputs": [],
   "source": [
    "import torch"
   ]
  },
  {
   "cell_type": "code",
   "execution_count": 2,
   "metadata": {
    "ExecuteTime": {
     "end_time": "2020-03-15T15:13:57.778412Z",
     "start_time": "2020-03-15T15:13:57.767078Z"
    }
   },
   "outputs": [],
   "source": [
    "w = torch.tensor(3.0, requires_grad = True)\n",
    "b = torch.tensor(1.0, requires_grad = True)"
   ]
  },
  {
   "cell_type": "code",
   "execution_count": 3,
   "metadata": {
    "ExecuteTime": {
     "end_time": "2020-03-15T15:14:46.999458Z",
     "start_time": "2020-03-15T15:14:46.990191Z"
    }
   },
   "outputs": [],
   "source": [
    "def forward(x):\n",
    "    y = w*x + b\n",
    "    return y"
   ]
  },
  {
   "cell_type": "code",
   "execution_count": 5,
   "metadata": {
    "ExecuteTime": {
     "end_time": "2020-03-15T15:15:24.767102Z",
     "start_time": "2020-03-15T15:15:24.751847Z"
    }
   },
   "outputs": [
    {
     "data": {
      "text/plain": [
       "tensor([[13.],\n",
       "        [22.]], grad_fn=<AddBackward0>)"
      ]
     },
     "execution_count": 5,
     "metadata": {},
     "output_type": "execute_result"
    }
   ],
   "source": [
    "x = torch.tensor([[4], [7]])\n",
    "forward(x)"
   ]
  },
  {
   "cell_type": "code",
   "execution_count": null,
   "metadata": {},
   "outputs": [],
   "source": []
  },
  {
   "cell_type": "markdown",
   "metadata": {},
   "source": [
    "## Linear Regression"
   ]
  },
  {
   "cell_type": "code",
   "execution_count": 6,
   "metadata": {
    "ExecuteTime": {
     "end_time": "2020-03-15T15:16:02.046767Z",
     "start_time": "2020-03-15T15:16:02.038179Z"
    }
   },
   "outputs": [],
   "source": [
    "from torch.nn import Linear"
   ]
  },
  {
   "cell_type": "code",
   "execution_count": 9,
   "metadata": {
    "ExecuteTime": {
     "end_time": "2020-03-15T15:16:50.311740Z",
     "start_time": "2020-03-15T15:16:50.298237Z"
    }
   },
   "outputs": [],
   "source": [
    "torch.manual_seed(1)\n",
    "model = Linear(in_features = 1, out_features = 1)"
   ]
  },
  {
   "cell_type": "code",
   "execution_count": 10,
   "metadata": {
    "ExecuteTime": {
     "end_time": "2020-03-15T15:17:11.001259Z",
     "start_time": "2020-03-15T15:17:10.988286Z"
    }
   },
   "outputs": [
    {
     "name": "stdout",
     "output_type": "stream",
     "text": [
      "Parameter containing:\n",
      "tensor([-0.4414], requires_grad=True) Parameter containing:\n",
      "tensor([[0.5153]], requires_grad=True)\n"
     ]
    }
   ],
   "source": [
    "print(model.bias, model.weight)"
   ]
  },
  {
   "cell_type": "code",
   "execution_count": 12,
   "metadata": {
    "ExecuteTime": {
     "end_time": "2020-03-15T15:18:27.296114Z",
     "start_time": "2020-03-15T15:18:27.280180Z"
    }
   },
   "outputs": [
    {
     "name": "stdout",
     "output_type": "stream",
     "text": [
      "tensor([[0.5891],\n",
      "        [1.2590]], grad_fn=<AddmmBackward>)\n"
     ]
    }
   ],
   "source": [
    "x = torch.tensor([[2.0], [3.3]])\n",
    "print(model(x))"
   ]
  },
  {
   "cell_type": "code",
   "execution_count": null,
   "metadata": {},
   "outputs": [],
   "source": []
  },
  {
   "cell_type": "markdown",
   "metadata": {},
   "source": [
    "## Object Oriented Linear Regression"
   ]
  },
  {
   "cell_type": "code",
   "execution_count": 13,
   "metadata": {
    "ExecuteTime": {
     "end_time": "2020-03-15T16:43:16.993768Z",
     "start_time": "2020-03-15T16:43:16.990605Z"
    }
   },
   "outputs": [],
   "source": [
    "import torch.nn as nn"
   ]
  },
  {
   "cell_type": "code",
   "execution_count": 21,
   "metadata": {
    "ExecuteTime": {
     "end_time": "2020-03-15T16:46:56.072441Z",
     "start_time": "2020-03-15T16:46:56.058813Z"
    }
   },
   "outputs": [],
   "source": [
    "class LR(nn.Module):\n",
    "    def __init__(self, input_size, output_size):\n",
    "        super().__init__()\n",
    "        \n",
    "        self.linear = nn.Linear(input_size, output_size)\n",
    "        \n",
    "    def forward(self, x):\n",
    "        pred = self.linear(x)\n",
    "        return pred"
   ]
  },
  {
   "cell_type": "code",
   "execution_count": 22,
   "metadata": {
    "ExecuteTime": {
     "end_time": "2020-03-15T16:46:59.201111Z",
     "start_time": "2020-03-15T16:46:59.184735Z"
    }
   },
   "outputs": [],
   "source": [
    "torch.manual_seed(1)\n",
    "model = LR(1, 1)"
   ]
  },
  {
   "cell_type": "code",
   "execution_count": 24,
   "metadata": {
    "ExecuteTime": {
     "end_time": "2020-03-15T16:47:36.280294Z",
     "start_time": "2020-03-15T16:47:36.265276Z"
    }
   },
   "outputs": [
    {
     "data": {
      "text/plain": [
       "tensor([[0.0739],\n",
       "        [0.5891]], grad_fn=<AddmmBackward>)"
      ]
     },
     "execution_count": 24,
     "metadata": {},
     "output_type": "execute_result"
    }
   ],
   "source": [
    "x = torch.tensor([[1.0], [2.0]])\n",
    "model.forward(x)"
   ]
  },
  {
   "cell_type": "code",
   "execution_count": null,
   "metadata": {},
   "outputs": [],
   "source": []
  },
  {
   "cell_type": "code",
   "execution_count": null,
   "metadata": {},
   "outputs": [],
   "source": []
  },
  {
   "cell_type": "code",
   "execution_count": 125,
   "metadata": {
    "ExecuteTime": {
     "end_time": "2020-03-15T17:22:36.024300Z",
     "start_time": "2020-03-15T17:22:36.011815Z"
    }
   },
   "outputs": [],
   "source": [
    "import matplotlib.pyplot as plt\n",
    "import numpy as np\n",
    "\n",
    "%matplotlib inline"
   ]
  },
  {
   "cell_type": "code",
   "execution_count": 126,
   "metadata": {
    "ExecuteTime": {
     "end_time": "2020-03-15T17:22:36.547272Z",
     "start_time": "2020-03-15T17:22:36.281726Z"
    }
   },
   "outputs": [
    {
     "data": {
      "text/plain": [
       "Text(0.5, 0, 'x')"
      ]
     },
     "execution_count": 126,
     "metadata": {},
     "output_type": "execute_result"
    },
    {
     "data": {
      "image/png": "[encoded data removed]",
      "text/plain": [
       "<Figure size 432x288 with 1 Axes>"
      ]
     },
     "metadata": {
      "needs_background": "light"
     },
     "output_type": "display_data"
    }
   ],
   "source": [
    "X = torch.randn(100, 1) * 10\n",
    "y = X + torch.randn(100, 1) * 3\n",
    "plt.plot(X.numpy(), y.numpy(), '*')\n",
    "plt.ylabel('y')\n",
    "plt.xlabel('x')"
   ]
  },
  {
   "cell_type": "code",
   "execution_count": 127,
   "metadata": {
    "ExecuteTime": {
     "end_time": "2020-03-15T17:22:36.629415Z",
     "start_time": "2020-03-15T17:22:36.623886Z"
    }
   },
   "outputs": [],
   "source": [
    "class LR(nn.Module):\n",
    "    def __init__(self, input_size, output_size):\n",
    "        super().__init__()\n",
    "        \n",
    "        self.linear = nn.Linear(input_size, output_size)\n",
    "        \n",
    "    def forward(self, x):\n",
    "        pred = self.linear(x)\n",
    "        return pred"
   ]
  },
  {
   "cell_type": "code",
   "execution_count": 128,
   "metadata": {
    "ExecuteTime": {
     "end_time": "2020-03-15T17:22:36.802257Z",
     "start_time": "2020-03-15T17:22:36.797484Z"
    }
   },
   "outputs": [],
   "source": [
    "torch.manual_seed(1)\n",
    "model = LR(1, 1)"
   ]
  },
  {
   "cell_type": "code",
   "execution_count": 129,
   "metadata": {
    "ExecuteTime": {
     "end_time": "2020-03-15T17:22:37.069717Z",
     "start_time": "2020-03-15T17:22:37.065273Z"
    }
   },
   "outputs": [],
   "source": [
    "[w, b] = model.parameters()\n",
    "\n",
    "def get_params():\n",
    "    return (w[0][0].item(), b[0].item())"
   ]
  },
  {
   "cell_type": "code",
   "execution_count": 130,
   "metadata": {
    "ExecuteTime": {
     "end_time": "2020-03-15T17:22:37.345161Z",
     "start_time": "2020-03-15T17:22:37.338077Z"
    }
   },
   "outputs": [],
   "source": [
    "def plot_fit(title):\n",
    "    plt.title = title\n",
    "    w1, b1 = get_params()\n",
    "    x1 = np.array([-30, 30])\n",
    "    y1 = w1*x1 + b1\n",
    "    plt.plot(x1, y1, 'r')\n",
    "    plt.scatter(X, y)\n",
    "    plt.show()"
   ]
  },
  {
   "cell_type": "code",
   "execution_count": 131,
   "metadata": {
    "ExecuteTime": {
     "end_time": "2020-03-15T17:22:37.839135Z",
     "start_time": "2020-03-15T17:22:37.591217Z"
    }
   },
   "outputs": [
    {
     "data": {
      "image/png": "[encoded data removed]",
      "text/plain": [
       "<Figure size 432x288 with 1 Axes>"
      ]
     },
     "metadata": {
      "needs_background": "light"
     },
     "output_type": "display_data"
    }
   ],
   "source": [
    "plot_fit('Initial Model')"
   ]
  },
  {
   "cell_type": "code",
   "execution_count": 132,
   "metadata": {
    "ExecuteTime": {
     "end_time": "2020-03-15T17:22:37.926595Z",
     "start_time": "2020-03-15T17:22:37.922848Z"
    }
   },
   "outputs": [],
   "source": [
    "criterion = nn.MSELoss()\n",
    "optimizer = torch.optim.SGD(model.parameters(), lr=0.001)"
   ]
  },
  {
   "cell_type": "code",
   "execution_count": 133,
   "metadata": {
    "ExecuteTime": {
     "end_time": "2020-03-15T17:22:38.253892Z",
     "start_time": "2020-03-15T17:22:38.150308Z"
    }
   },
   "outputs": [
    {
     "name": "stdout",
     "output_type": "stream",
     "text": [
      "epoch: 0 loss: 36.448333740234375\n",
      "epoch: 1 loss: 25.847068786621094\n",
      "epoch: 2 loss: 19.274919509887695\n",
      "epoch: 3 loss: 15.200483322143555\n",
      "epoch: 4 loss: 12.674422264099121\n",
      "epoch: 5 loss: 11.108229637145996\n",
      "epoch: 6 loss: 10.137073516845703\n",
      "epoch: 7 loss: 9.53479290008545\n",
      "epoch: 8 loss: 9.161184310913086\n",
      "epoch: 9 loss: 8.92933464050293\n",
      "epoch: 10 loss: 8.785365104675293\n",
      "epoch: 11 loss: 8.695876121520996\n",
      "epoch: 12 loss: 8.640158653259277\n",
      "epoch: 13 loss: 8.605379104614258\n",
      "epoch: 14 loss: 8.583581924438477\n",
      "epoch: 15 loss: 8.569830894470215\n",
      "epoch: 16 loss: 8.56106948852539\n",
      "epoch: 17 loss: 8.555403709411621\n",
      "epoch: 18 loss: 8.551655769348145\n",
      "epoch: 19 loss: 8.549100875854492\n",
      "epoch: 20 loss: 8.547282218933105\n",
      "epoch: 21 loss: 8.545923233032227\n",
      "epoch: 22 loss: 8.54485034942627\n",
      "epoch: 23 loss: 8.54395580291748\n",
      "epoch: 24 loss: 8.543170928955078\n",
      "epoch: 25 loss: 8.542455673217773\n",
      "epoch: 26 loss: 8.541786193847656\n",
      "epoch: 27 loss: 8.541145324707031\n",
      "epoch: 28 loss: 8.540521621704102\n",
      "epoch: 29 loss: 8.539910316467285\n",
      "epoch: 30 loss: 8.539307594299316\n",
      "epoch: 31 loss: 8.538711547851562\n",
      "epoch: 32 loss: 8.538119316101074\n",
      "epoch: 33 loss: 8.537530899047852\n",
      "epoch: 34 loss: 8.536946296691895\n",
      "epoch: 35 loss: 8.536364555358887\n",
      "epoch: 36 loss: 8.535785675048828\n",
      "epoch: 37 loss: 8.535205841064453\n",
      "epoch: 38 loss: 8.53463363647461\n",
      "epoch: 39 loss: 8.534061431884766\n",
      "epoch: 40 loss: 8.533492088317871\n",
      "epoch: 41 loss: 8.532923698425293\n",
      "epoch: 42 loss: 8.532360076904297\n",
      "epoch: 43 loss: 8.5317964553833\n",
      "epoch: 44 loss: 8.531234741210938\n",
      "epoch: 45 loss: 8.530675888061523\n",
      "epoch: 46 loss: 8.530118942260742\n",
      "epoch: 47 loss: 8.529566764831543\n",
      "epoch: 48 loss: 8.529012680053711\n",
      "epoch: 49 loss: 8.528462409973145\n",
      "epoch: 50 loss: 8.527915000915527\n",
      "epoch: 51 loss: 8.52737045288086\n",
      "epoch: 52 loss: 8.526825904846191\n",
      "epoch: 53 loss: 8.526285171508789\n",
      "epoch: 54 loss: 8.525744438171387\n",
      "epoch: 55 loss: 8.52520751953125\n",
      "epoch: 56 loss: 8.524674415588379\n",
      "epoch: 57 loss: 8.524140357971191\n",
      "epoch: 58 loss: 8.523609161376953\n",
      "epoch: 59 loss: 8.523080825805664\n",
      "epoch: 60 loss: 8.522553443908691\n",
      "epoch: 61 loss: 8.522029876708984\n",
      "epoch: 62 loss: 8.521506309509277\n",
      "epoch: 63 loss: 8.52098560333252\n",
      "epoch: 64 loss: 8.520466804504395\n",
      "epoch: 65 loss: 8.519950866699219\n",
      "epoch: 66 loss: 8.51943588256836\n",
      "epoch: 67 loss: 8.51892375946045\n",
      "epoch: 68 loss: 8.518413543701172\n",
      "epoch: 69 loss: 8.517904281616211\n",
      "epoch: 70 loss: 8.517398834228516\n",
      "epoch: 71 loss: 8.516894340515137\n",
      "epoch: 72 loss: 8.51639175415039\n",
      "epoch: 73 loss: 8.515890121459961\n",
      "epoch: 74 loss: 8.515392303466797\n",
      "epoch: 75 loss: 8.51489543914795\n",
      "epoch: 76 loss: 8.51440143585205\n",
      "epoch: 77 loss: 8.513909339904785\n",
      "epoch: 78 loss: 8.513418197631836\n",
      "epoch: 79 loss: 8.512928009033203\n",
      "epoch: 80 loss: 8.512441635131836\n",
      "epoch: 81 loss: 8.511958122253418\n",
      "epoch: 82 loss: 8.511474609375\n",
      "epoch: 83 loss: 8.510993957519531\n",
      "epoch: 84 loss: 8.510512351989746\n",
      "epoch: 85 loss: 8.51003646850586\n",
      "epoch: 86 loss: 8.509559631347656\n"
     ]
    }
   ],
   "source": [
    "epochs = 87\n",
    "losses = []\n",
    "for i in range(epochs):\n",
    "    y_pred = model.forward(X)\n",
    "    loss = criterion(y_pred, y)\n",
    "    print(\"epoch:\", i, \"loss:\", loss.item())\n",
    "    \n",
    "    losses.append(loss)\n",
    "    optimizer.zero_grad()\n",
    "    loss.backward()\n",
    "    optimizer.step()"
   ]
  },
  {
   "cell_type": "code",
   "execution_count": 134,
   "metadata": {
    "ExecuteTime": {
     "end_time": "2020-03-15T17:22:39.181392Z",
     "start_time": "2020-03-15T17:22:38.985635Z"
    }
   },
   "outputs": [
    {
     "data": {
      "text/plain": [
       "Text(0.5, 0, 'Epoch')"
      ]
     },
     "execution_count": 134,
     "metadata": {},
     "output_type": "execute_result"
    },
    {
     "data": {
      "image/png": "[encoded data removed]",
      "text/plain": [
       "<Figure size 432x288 with 1 Axes>"
      ]
     },
     "metadata": {
      "needs_background": "light"
     },
     "output_type": "display_data"
    }
   ],
   "source": [
    "plt.plot(range(epochs), losses)\n",
    "plt.ylabel('Loss')\n",
    "plt.xlabel('Epoch')"
   ]
  },
  {
   "cell_type": "code",
   "execution_count": 135,
   "metadata": {
    "ExecuteTime": {
     "end_time": "2020-03-15T17:22:40.127664Z",
     "start_time": "2020-03-15T17:22:39.924856Z"
    }
   },
   "outputs": [
    {
     "data": {
      "image/png": "[encoded data removed]",
      "text/plain": [
       "<Figure size 432x288 with 1 Axes>"
      ]
     },
     "metadata": {
      "needs_background": "light"
     },
     "output_type": "display_data"
    }
   ],
   "source": [
    "plot_fit(\"Trained Model\")"
   ]
  },
  {
   "cell_type": "code",
   "execution_count": null,
   "metadata": {},
   "outputs": [],
   "source": []
  }
 ],
 "metadata": {
  "kernelspec": {
   "display_name": "Python 3.6.9 64-bit ('ml_dl': venv)",
   "language": "python",
   "name": "python36964bitmldlvenvee3cc9f7233c463e83597df502c019a4"
  },
  "language_info": {
   "codemirror_mode": {
    "name": "ipython",
    "version": 3
   },
   "file_extension": ".py",
   "mimetype": "text/x-python",
   "name": "python",
   "nbconvert_exporter": "python",
   "pygments_lexer": "ipython3",
   "version": "3.6.9"
  },
  "toc": {
   "base_numbering": 1,
   "nav_menu": {},
   "number_sections": true,
   "sideBar": true,
   "skip_h1_title": false,
   "title_cell": "Table of Contents",
   "title_sidebar": "Contents",
   "toc_cell": false,
   "toc_position": {},
   "toc_section_display": true,
   "toc_window_display": false
  },
  "varInspector": {
   "cols": {
    "lenName": 16,
    "lenType": 16,
    "lenVar": 40
   },
   "kernels_config": {
    "python": {
     "delete_cmd_postfix": "",
     "delete_cmd_prefix": "del ",
     "library": "var_list.py",
     "varRefreshCmd": "print(var_dic_list())"
    },
    "r": {
     "delete_cmd_postfix": ") ",
     "delete_cmd_prefix": "rm(",
     "library": "var_list.r",
     "varRefreshCmd": "cat(var_dic_list()) "
    }
   },
   "types_to_exclude": [
    "module",
    "function",
    "builtin_function_or_method",
    "instance",
    "_Feature"
   ],
   "window_display": false
  }
 },
 "nbformat": 4,
 "nbformat_minor": 2
}
