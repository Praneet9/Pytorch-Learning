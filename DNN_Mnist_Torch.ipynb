{
  "nbformat": 4,
  "nbformat_minor": 0,
  "metadata": {
    "colab": {
      "name": "DNN_Mnist_Torch.ipynb",
      "provenance": [],
      "collapsed_sections": [],
      "authorship_tag": "ABX9TyP1Yy32LYiG92k2o9afbk3U",
      "include_colab_link": true
    },
    "kernelspec": {
      "name": "python3",
      "display_name": "Python 3"
    },
    "accelerator": "GPU"
  },
  "cells": [
    {
      "cell_type": "markdown",
      "metadata": {
        "id": "view-in-github",
        "colab_type": "text"
      },
      "source": [
        "<a href=\"https://colab.research.google.com/github/Praneet9/Pytorch-Learning/blob/master/DNN_Mnist_Torch.ipynb\" target=\"_parent\"><img src=\"https://colab.research.google.com/assets/colab-badge.svg\" alt=\"Open In Colab\"/></a>"
      ]
    },
    {
      "cell_type": "code",
      "metadata": {
        "id": "qzSJ5tColh8H",
        "colab_type": "code",
        "colab": {}
      },
      "source": [
        "import torch\n",
        "import matplotlib.pyplot as plt\n",
        "import numpy as np\n",
        "from torch import nn\n",
        "import torch.nn.functional as F\n",
        "from torchvision import datasets, transforms"
      ],
      "execution_count": 0,
      "outputs": []
    },
    {
      "cell_type": "code",
      "metadata": {
        "id": "VnnUv4O4lvmY",
        "colab_type": "code",
        "colab": {}
      },
      "source": [
        "transform = transforms.Compose([transforms.ToTensor(),\n",
        "                                transforms.Normalize((0.5), (0.5))])\n",
        "training_dataset = datasets.MNIST(root='./data', train=True, download=True, transform=transform)\n",
        "validation_dataset = datasets.MNIST(root='./data', train=False, download=True, transform=transform)\n",
        "\n",
        "training_dataloader = torch.utils.data.DataLoader(dataset=training_dataset, batch_size=100, shuffle=True)\n",
        "validation_dataloader = torch.utils.data.DataLoader(dataset=validation_dataset, batch_size=100, shuffle=False)"
      ],
      "execution_count": 0,
      "outputs": []
    },
    {
      "cell_type": "code",
      "metadata": {
        "id": "qfD4YDsTm5_d",
        "colab_type": "code",
        "colab": {}
      },
      "source": [
        "def im_convert(tensor):\n",
        "  image = tensor.clone().detach().numpy()\n",
        "  image = image.transpose(1, 2, 0)\n",
        "  image = image * np.array((0.5, 0.5, 0.5)) + np.array((0.5, 0.5, 0.5))\n",
        "  image = image.clip(0, 1)\n",
        "  return image"
      ],
      "execution_count": 0,
      "outputs": []
    },
    {
      "cell_type": "code",
      "metadata": {
        "id": "C0oupORWndDk",
        "colab_type": "code",
        "outputId": "92e78c60-ec76-4760-988d-5486cb950d88",
        "colab": {
          "base_uri": "https://localhost:8080/",
          "height": 268
        }
      },
      "source": [
        "dataiter = iter(training_dataloader)\n",
        "images, labels = dataiter.next()\n",
        "fig = plt.figure(figsize=(25, 4))\n",
        "\n",
        "for idx in range(20):\n",
        "  ax = fig.add_subplot(2, 10, idx+1, xticks = [], yticks = [])\n",
        "  plt.imshow(im_convert(images[idx]))\n",
        "  ax.set_title(labels[idx].item())"
      ],
      "execution_count": 0,
      "outputs": [
        {
          "output_type": "display_data",
          "data": {
            "image/png": "[encoded data removed]",
            "text/plain": [
              "<Figure size 1800x288 with 20 Axes>"
            ]
          },
          "metadata": {
            "tags": []
          }
        }
      ]
    },
    {
      "cell_type": "code",
      "metadata": {
        "id": "3c6fW3s-l8sw",
        "colab_type": "code",
        "colab": {}
      },
      "source": [
        "class Classifier(nn.Module):\n",
        "  def __init__(self, D_in, H1, H2, D_out):\n",
        "    super().__init__()\n",
        "    self.linear1 = nn.Linear(D_in, H1)\n",
        "    self.linear2 = nn.Linear(H1, H2)\n",
        "    self.linear3 = nn.Linear(H2, D_out)\n",
        "  \n",
        "  def forward(self, x):\n",
        "    x = F.relu(self.linear1(x))\n",
        "    x = F.relu(self.linear2(x))\n",
        "    x = self.linear3(x)\n",
        "    return x"
      ],
      "execution_count": 0,
      "outputs": []
    },
    {
      "cell_type": "code",
      "metadata": {
        "id": "ExqjdnwanvkC",
        "colab_type": "code",
        "outputId": "2dbdf19c-4894-4e60-9fc2-90faa6ea9096",
        "colab": {
          "base_uri": "https://localhost:8080/",
          "height": 102
        }
      },
      "source": [
        "model = Classifier(784, 125, 65, 10)\n",
        "model"
      ],
      "execution_count": 0,
      "outputs": [
        {
          "output_type": "execute_result",
          "data": {
            "text/plain": [
              "Classifier(\n",
              "  (linear1): Linear(in_features=784, out_features=125, bias=True)\n",
              "  (linear2): Linear(in_features=125, out_features=65, bias=True)\n",
              "  (linear3): Linear(in_features=65, out_features=10, bias=True)\n",
              ")"
            ]
          },
          "metadata": {
            "tags": []
          },
          "execution_count": 6
        }
      ]
    },
    {
      "cell_type": "code",
      "metadata": {
        "id": "3H54bgOLteZA",
        "colab_type": "code",
        "colab": {}
      },
      "source": [
        "criterion = nn.CrossEntropyLoss()\n",
        "optimizer = torch.optim.Adam(model.parameters(), lr=0.0001)"
      ],
      "execution_count": 0,
      "outputs": []
    },
    {
      "cell_type": "code",
      "metadata": {
        "id": "kqO6dUz_t70_",
        "colab_type": "code",
        "outputId": "d4f77c8c-bb94-44a5-ada5-538505e058e1",
        "colab": {
          "base_uri": "https://localhost:8080/",
          "height": 221
        }
      },
      "source": [
        "epochs = 12\n",
        "running_loss_history = []\n",
        "running_corrects_history = []\n",
        "val_running_loss_history = []\n",
        "val_running_corrects_history = []\n",
        "\n",
        "for e in range(epochs):\n",
        "  running_loss = 0.0\n",
        "  running_corrects = 0.0\n",
        "  val_running_loss = 0.0\n",
        "  val_running_corrects = 0.0\n",
        "  for inputs, labels in training_dataloader:\n",
        "    inputs = inputs.view(inputs.shape[0], -1)\n",
        "    outputs = model(inputs)\n",
        "    loss = criterion(outputs, labels)\n",
        "    \n",
        "    optimizer.zero_grad()\n",
        "    loss.backward()\n",
        "    optimizer.step()\n",
        "\n",
        "    _, preds = torch.max(outputs, 1)\n",
        "\n",
        "    running_corrects += torch.sum(preds == labels.data).item()\n",
        "    running_loss += loss.item()\n",
        "  else:\n",
        "    with torch.no_grad():\n",
        "      for val_inputs, val_labels in validation_dataloader:\n",
        "        val_inputs = val_inputs.view(val_inputs.shape[0], -1)\n",
        "        val_outputs = model(val_inputs)\n",
        "        val_loss = criterion(val_outputs, val_labels)\n",
        "\n",
        "        _, val_preds = torch.max(val_outputs, 1)\n",
        "\n",
        "        val_running_corrects += torch.sum(val_preds == val_labels.data).item()\n",
        "        val_running_loss += val_loss.item()\n",
        "\n",
        "\n",
        "    epoch_loss = running_loss / len(training_dataloader)\n",
        "    epoch_acc = running_corrects / len(training_dataloader)\n",
        "    running_loss_history.append(epoch_loss)\n",
        "    running_corrects_history.append(epoch_acc)\n",
        "\n",
        "    val_epoch_loss = val_running_loss / len(validation_dataloader)\n",
        "    val_epoch_acc = val_running_corrects / len(validation_dataloader)\n",
        "    val_running_loss_history.append(val_epoch_loss)\n",
        "    val_running_corrects_history.append(val_epoch_acc)\n",
        "\n",
        "    print(f'Epoch:{e+1} Training Loss: {round(epoch_loss, 4)} Training Accuracy: {round(epoch_acc, 4)} Validation Loss: {round(val_epoch_loss, 4)} Validation Accuracy: {round(val_epoch_acc, 4)}')"
      ],
      "execution_count": 0,
      "outputs": [
        {
          "output_type": "stream",
          "text": [
            "Epoch:1 Training Loss: 0.9418 Training Accuracy: 77.24 Validation Loss: 0.4206 Validation Accuracy: 88.69\n",
            "Epoch:2 Training Loss: 0.3755 Training Accuracy: 89.3767 Validation Loss: 0.3181 Validation Accuracy: 90.94\n",
            "Epoch:3 Training Loss: 0.3158 Training Accuracy: 90.845 Validation Loss: 0.283 Validation Accuracy: 91.84\n",
            "Epoch:4 Training Loss: 0.283 Training Accuracy: 91.8317 Validation Loss: 0.2552 Validation Accuracy: 92.69\n",
            "Epoch:5 Training Loss: 0.2578 Training Accuracy: 92.5567 Validation Loss: 0.246 Validation Accuracy: 92.87\n",
            "Epoch:6 Training Loss: 0.2364 Training Accuracy: 93.255 Validation Loss: 0.2194 Validation Accuracy: 93.65\n",
            "Epoch:7 Training Loss: 0.2183 Training Accuracy: 93.8167 Validation Loss: 0.2055 Validation Accuracy: 93.99\n",
            "Epoch:8 Training Loss: 0.2017 Training Accuracy: 94.265 Validation Loss: 0.1903 Validation Accuracy: 94.35\n",
            "Epoch:9 Training Loss: 0.1875 Training Accuracy: 94.64 Validation Loss: 0.1812 Validation Accuracy: 94.68\n",
            "Epoch:10 Training Loss: 0.1759 Training Accuracy: 94.9883 Validation Loss: 0.1703 Validation Accuracy: 95.02\n",
            "Epoch:11 Training Loss: 0.1649 Training Accuracy: 95.3 Validation Loss: 0.1589 Validation Accuracy: 95.35\n",
            "Epoch:12 Training Loss: 0.1553 Training Accuracy: 95.5433 Validation Loss: 0.1497 Validation Accuracy: 95.6\n"
          ],
          "name": "stdout"
        }
      ]
    },
    {
      "cell_type": "code",
      "metadata": {
        "id": "2MfnxQvZxFVy",
        "colab_type": "code",
        "outputId": "317adeac-e46c-4053-c333-b56f45b2c548",
        "colab": {
          "base_uri": "https://localhost:8080/",
          "height": 265
        }
      },
      "source": [
        "plt.plot(running_loss_history, label='Training Loss')\n",
        "plt.plot(val_running_loss_history, label='Validation Loss')\n",
        "plt.show()"
      ],
      "execution_count": 0,
      "outputs": [
        {
          "output_type": "display_data",
          "data": {
            "image/png": "[encoded data removed]",
            "text/plain": [
              "<Figure size 432x288 with 1 Axes>"
            ]
          },
          "metadata": {
            "tags": [],
            "needs_background": "light"
          }
        }
      ]
    },
    {
      "cell_type": "code",
      "metadata": {
        "id": "9nCf2ukUzAwn",
        "colab_type": "code",
        "outputId": "b30d6650-9205-4cb6-83ed-6af8ce3d4bbe",
        "colab": {
          "base_uri": "https://localhost:8080/",
          "height": 265
        }
      },
      "source": [
        "plt.plot(running_corrects_history, label='Training Accuracy')\n",
        "plt.plot(val_running_corrects_history, label='Validation Accuracy')\n",
        "plt.show()"
      ],
      "execution_count": 0,
      "outputs": [
        {
          "output_type": "display_data",
          "data": {
            "image/png": "[encoded data removed]",
            "text/plain": [
              "<Figure size 432x288 with 1 Axes>"
            ]
          },
          "metadata": {
            "tags": [],
            "needs_background": "light"
          }
        }
      ]
    },
    {
      "cell_type": "code",
      "metadata": {
        "id": "WoXqVp5kzHSN",
        "colab_type": "code",
        "colab": {}
      },
      "source": [
        ""
      ],
      "execution_count": 0,
      "outputs": []
    }
  ]
}